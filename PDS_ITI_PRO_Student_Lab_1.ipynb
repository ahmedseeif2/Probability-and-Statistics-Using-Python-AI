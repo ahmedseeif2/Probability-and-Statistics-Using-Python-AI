{
 "cells": [
  {
   "cell_type": "markdown",
   "metadata": {
    "id": "cP87wqVeXl0g"
   },
   "source": [
    "# LAB 1: Probability Concepts\n",
    "\n",
    "In this lab you will use python to study the following topics:\n",
    "\n",
    "- How to simulate random experiment outcomes using numpy arrays.\n",
    "\n",
    "- How to estimate the probability of an event using the relative frequency approach.\n"
   ]
  },
  {
   "cell_type": "markdown",
   "metadata": {
    "id": "syH7DkP6Xl0h"
   },
   "source": [
    "# First: you should run this cell"
   ]
  },
  {
   "cell_type": "code",
   "execution_count": 2,
   "metadata": {
    "id": "c7VnDCWHXl0i"
   },
   "outputs": [],
   "source": [
    "# Make all numpy available via shorter 'np' prefix\n",
    "import numpy as np\n",
    "\n",
    "# matplotlib library\n",
    "import matplotlib.pyplot as plt"
   ]
  },
  {
   "cell_type": "markdown",
   "metadata": {
    "id": "q2G6GijBXl0j"
   },
   "source": [
    "# Problem 1\n",
    "\n",
    "Use numpy to simulate the vector outcomes for repeating the following random experiments $1000$ times and use the relative frequency to compute the probability of the corresponding events:\n",
    "    \n",
    "1. **Experiment:** Flipping a fair coin, **Event:** A head occurs.\n",
    "     \n",
    "Observe how changing the number of repetition affects the computed probabilities.\n",
    "\n",
    "**Hints:** \n",
    "- Use [numpy.random.randint](https://numpy.org/doc/stable/reference/random/generated/numpy.random.randint.html) or [numpy.random.choice](https://numpy.org/doc/stable/reference/random/generated/numpy.random.choice.html) to simulate the experiment.\n",
    "- Other useful functions [numpy.arange](https://numpy.org/doc/stable/reference/generated/numpy.arange.html), [numpy.cumsum](https://numpy.org/doc/stable/reference/generated/numpy.cumsum.html), [numpy.sum](https://numpy.org/doc/stable/reference/generated/numpy.sum.html), and [matplotlib.pyplot.plot](https://matplotlib.org/stable/api/_as_gen/matplotlib.pyplot.plot.html)"
   ]
  },
  {
   "cell_type": "code",
   "execution_count": 19,
   "metadata": {},
   "outputs": [
    {
     "data": {
      "image/png": "[encoded data removed]",
      "text/plain": [
       "<Figure size 432x288 with 1 Axes>"
      ]
     },
     "metadata": {
      "needs_background": "light"
     },
     "output_type": "display_data"
    }
   ],
   "source": [
    "plt.plot(np.cumsum(np.random.randint(2, size=1000))/np.arange(1,1001))\n",
    "plt.ylabel('some numbers')\n",
    "plt.show()"
   ]
  },
  {
   "cell_type": "code",
   "execution_count": 21,
   "metadata": {
    "scrolled": true
   },
   "outputs": [
    {
     "data": {
      "text/plain": [
       "array([1, 5, 3, 1, 5, 3, 5, 4, 4, 5, 3, 1, 2, 1, 2, 2, 3, 5, 1, 5, 4, 3,\n",
       "       3, 4, 1, 4, 1, 2, 3, 1, 5, 5, 3, 4, 4, 1, 4, 3, 1, 2, 4, 4, 1, 5,\n",
       "       4, 3, 4, 2, 4, 5, 4, 1, 4, 5, 1, 3, 1, 2, 1, 3, 4, 1, 1, 1, 1, 3,\n",
       "       5, 5, 1, 3, 3, 1, 2, 1, 2, 1, 2, 2, 1, 2, 4, 5, 3, 2, 2, 3, 2, 3,\n",
       "       1, 4, 4, 5, 2, 5, 1, 4, 1, 1, 2, 1, 4, 5, 4, 2, 4, 3, 5, 3, 3, 2,\n",
       "       1, 3, 4, 1, 4, 4, 1, 1, 4, 2, 5, 5, 2, 1, 4, 5, 4, 2, 4, 2, 1, 2,\n",
       "       2, 5, 4, 5, 3, 2, 3, 5, 4, 5, 4, 4, 1, 2, 5, 4, 5, 5, 4, 3, 2, 2,\n",
       "       1, 1, 1, 2, 3, 2, 2, 2, 2, 3, 1, 5, 1, 1, 5, 2, 3, 3, 1, 5, 4, 2,\n",
       "       1, 3, 5, 5, 1, 4, 3, 1, 4, 5, 2, 3, 3, 4, 1, 5, 4, 2, 2, 2, 4, 5,\n",
       "       3, 1, 3, 5, 3, 4, 2, 5, 5, 3, 4, 3, 3, 5, 3, 2, 3, 2, 5, 4, 2, 4,\n",
       "       4, 2, 5, 1, 4, 4, 5, 5, 3, 5, 4, 2, 1, 3, 2, 1, 1, 1, 2, 3, 3, 1,\n",
       "       2, 1, 5, 3, 4, 1, 5, 3, 2, 3, 2, 2, 1, 1, 3, 5, 3, 4, 2, 2, 1, 5,\n",
       "       1, 4, 3, 3, 5, 1, 1, 4, 3, 1, 5, 3, 4, 5, 2, 4, 5, 1, 2, 4, 1, 2,\n",
       "       3, 1, 5, 4, 2, 1, 3, 4, 4, 1, 3, 2, 1, 2, 4, 2, 3, 5, 3, 2, 1, 4,\n",
       "       5, 1, 1, 3, 2, 3, 2, 3, 1, 4, 2, 5, 5, 1, 3, 3, 1, 5, 5, 3, 2, 4,\n",
       "       2, 5, 2, 4, 2, 2, 2, 2, 1, 5, 4, 5, 1, 1, 1, 1, 2, 5, 3, 4, 1, 5,\n",
       "       1, 1, 1, 1, 1, 4, 5, 1, 1, 1, 1, 2, 2, 3, 1, 3, 4, 3, 5, 2, 2, 1,\n",
       "       1, 4, 4, 5, 1, 1, 4, 4, 4, 2, 3, 3, 1, 2, 4, 1, 2, 5, 2, 1, 3, 4,\n",
       "       5, 2, 1, 1, 4, 1, 1, 4, 5, 3, 3, 2, 5, 2, 3, 4, 1, 3, 5, 3, 5, 5,\n",
       "       5, 2, 4, 3, 4, 1, 3, 4, 4, 1, 5, 3, 3, 1, 5, 3, 3, 3, 5, 1, 3, 4,\n",
       "       5, 2, 1, 4, 3, 2, 1, 5, 2, 2, 4, 1, 4, 4, 3, 5, 2, 1, 5, 5, 1, 5,\n",
       "       3, 5, 3, 2, 2, 4, 3, 2, 5, 1, 1, 3, 4, 5, 3, 1, 3, 5, 2, 5, 2, 2,\n",
       "       2, 3, 1, 3, 1, 5, 4, 5, 3, 3, 1, 3, 2, 3, 1, 1, 2, 1, 4, 5, 3, 4,\n",
       "       3, 4, 3, 2, 1, 1, 2, 4, 5, 4, 1, 5, 3, 5, 4, 2, 3, 4, 3, 5, 1, 4,\n",
       "       2, 5, 4, 2, 4, 5, 4, 3, 5, 4, 1, 4, 3, 2, 2, 2, 1, 3, 5, 2, 3, 4,\n",
       "       1, 3, 3, 5, 3, 5, 1, 1, 4, 5, 5, 2, 2, 4, 1, 2, 3, 1, 3, 5, 1, 4,\n",
       "       5, 5, 3, 5, 2, 1, 2, 3, 3, 1, 5, 4, 3, 1, 4, 5, 3, 1, 1, 1, 3, 4,\n",
       "       1, 5, 1, 4, 3, 1, 1, 5, 5, 1, 1, 5, 4, 2, 2, 1, 5, 3, 3, 2, 4, 2,\n",
       "       1, 4, 3, 5, 5, 1, 2, 1, 5, 3, 5, 4, 5, 5, 4, 2, 5, 1, 5, 1, 4, 5,\n",
       "       4, 4, 2, 5, 1, 1, 5, 2, 2, 2, 1, 4, 2, 1, 1, 4, 5, 5, 2, 2, 4, 2,\n",
       "       4, 1, 2, 1, 3, 4, 3, 2, 1, 2, 3, 2, 5, 3, 2, 1, 2, 1, 5, 2, 5, 3,\n",
       "       1, 3, 1, 5, 4, 2, 5, 1, 1, 1, 1, 2, 3, 4, 2, 1, 2, 5, 1, 4, 1, 4,\n",
       "       4, 3, 3, 2, 2, 4, 1, 5, 5, 1, 1, 3, 5, 4, 2, 3, 5, 1, 5, 4, 3, 1,\n",
       "       4, 2, 3, 4, 4, 1, 2, 4, 3, 4, 5, 3, 3, 4, 1, 3, 5, 1, 1, 1, 3, 1,\n",
       "       4, 1, 5, 2, 5, 3, 1, 1, 4, 1, 5, 3, 2, 1, 2, 1, 3, 5, 3, 2, 1, 2,\n",
       "       5, 3, 2, 2, 5, 1, 2, 5, 1, 1, 3, 5, 1, 3, 4, 5, 4, 1, 5, 3, 1, 5,\n",
       "       5, 4, 1, 3, 3, 1, 1, 2, 4, 1, 1, 2, 2, 5, 3, 4, 5, 1, 2, 3, 5, 3,\n",
       "       2, 5, 5, 3, 2, 1, 5, 1, 2, 5, 5, 1, 4, 1, 1, 4, 2, 2, 5, 3, 3, 5,\n",
       "       3, 1, 1, 4, 4, 5, 5, 5, 1, 3, 5, 5, 1, 1, 1, 3, 5, 2, 2, 5, 5, 5,\n",
       "       5, 3, 2, 4, 2, 2, 1, 5, 5, 5, 1, 3, 3, 4, 3, 3, 5, 2, 3, 3, 1, 4,\n",
       "       1, 5, 2, 4, 1, 3, 3, 4, 3, 1, 1, 3, 3, 5, 2, 4, 1, 4, 5, 1, 5, 5,\n",
       "       3, 4, 4, 3, 4, 3, 1, 5, 5, 4, 2, 5, 3, 2, 2, 5, 5, 5, 3, 2, 4, 3,\n",
       "       1, 5, 2, 3, 1, 3, 3, 4, 4, 3, 1, 2, 2, 5, 5, 2, 3, 3, 4, 4, 5, 2,\n",
       "       3, 2, 1, 2, 1, 4, 4, 5, 2, 2, 1, 4, 1, 4, 1, 4, 1, 4, 1, 2, 5, 1,\n",
       "       5, 2, 2, 4, 5, 3, 4, 5, 1, 1, 2, 3, 1, 5, 5, 1, 5, 5, 2, 3, 2, 3,\n",
       "       5, 3, 5, 5, 2, 2, 4, 1, 4, 4])"
      ]
     },
     "execution_count": 21,
     "metadata": {},
     "output_type": "execute_result"
    }
   ],
   "source": [
    "np.random.randint(low = 1,high = 6, size=1000)"
   ]
  },
  {
   "cell_type": "code",
   "execution_count": 20,
   "metadata": {},
   "outputs": [
    {
     "data": {
      "image/png": "[encoded data removed]",
      "text/plain": [
       "<Figure size 432x288 with 1 Axes>"
      ]
     },
     "metadata": {
      "needs_background": "light"
     },
     "output_type": "display_data"
    }
   ],
   "source": [
    "plt.plot(np.cumsum(np.random.randint(low = 1,high = 6, size=1000))/np.arange(1,1001))\n",
    "plt.ylabel('some numbers')\n",
    "plt.show()"
   ]
  },
  {
   "cell_type": "code",
   "execution_count": null,
   "metadata": {
    "id": "Fk92JHFwXl0k",
    "outputId": "cf5368af-5fb0-4adc-96c9-d997e69b7f93"
   },
   "outputs": [
    {
     "data": {
      "text/plain": [
       "[<matplotlib.lines.Line2D at 0x22f0b0e20d0>]"
      ]
     },
     "execution_count": 2,
     "metadata": {
      "tags": []
     },
     "output_type": "execute_result"
    },
    {
     "data": {
      "image/png": "[encoded data removed]",
      "text/plain": [
       "<Figure size 432x288 with 1 Axes>"
      ]
     },
     "metadata": {
      "needs_background": "light",
      "tags": []
     },
     "output_type": "display_data"
    }
   ],
   "source": [
    "#type your code here:\n"
   ]
  },
  {
   "cell_type": "markdown",
   "metadata": {
    "id": "q27l1UbSXl0k"
   },
   "source": [
    "2. **Experiment:** Rolling a fair die, **Event:** A number greater than 3 occurs."
   ]
  },
  {
   "cell_type": "code",
   "execution_count": 24,
   "metadata": {
    "scrolled": true
   },
   "outputs": [
    {
     "data": {
      "text/plain": [
       "array([  0,   0,   1,   2,   3,   3,   3,   3,   3,   3,   4,   4,   4,\n",
       "         4,   4,   4,   5,   5,   5,   5,   5,   6,   7,   8,   9,   9,\n",
       "         9,  10,  10,  10,  10,  11,  12,  13,  13,  13,  14,  15,  15,\n",
       "        15,  16,  16,  17,  18,  18,  19,  20,  20,  21,  21,  22,  22,\n",
       "        23,  23,  23,  23,  23,  23,  24,  25,  26,  27,  27,  28,  29,\n",
       "        30,  30,  30,  30,  31,  32,  32,  33,  33,  34,  35,  36,  36,\n",
       "        36,  37,  37,  37,  37,  37,  37,  37,  38,  39,  39,  40,  41,\n",
       "        41,  42,  42,  42,  42,  43,  44,  45,  46,  47,  48,  48,  49,\n",
       "        49,  50,  50,  50,  50,  50,  51,  51,  51,  52,  52,  52,  53,\n",
       "        53,  53,  54,  55,  56,  57,  58,  59,  60,  60,  61,  61,  61,\n",
       "        61,  62,  63,  63,  63,  64,  64,  65,  65,  65,  65,  66,  67,\n",
       "        67,  68,  68,  68,  68,  69,  69,  70,  70,  71,  71,  71,  72,\n",
       "        72,  73,  74,  74,  75,  75,  76,  77,  78,  79,  80,  80,  81,\n",
       "        81,  81,  81,  81,  82,  83,  84,  84,  84,  84,  84,  84,  84,\n",
       "        84,  84,  85,  85,  86,  87,  88,  88,  89,  90,  90,  90,  91,\n",
       "        91,  91,  91,  91,  91,  91,  91,  92,  93,  93,  93,  94,  94,\n",
       "        95,  95,  96,  96,  97,  97,  98,  99,  99, 100, 100, 100, 100,\n",
       "       100, 101, 101, 101, 101, 101, 101, 101, 101, 102, 102, 102, 102,\n",
       "       102, 102, 102, 103, 103, 103, 103, 104, 105, 105, 105, 106, 106,\n",
       "       107, 108, 108, 108, 108, 108, 109, 109, 110, 110, 110, 111, 112,\n",
       "       112, 113, 114, 114, 115, 115, 116, 116, 117, 117, 118, 118, 118,\n",
       "       118, 119, 120, 121, 121, 121, 121, 121, 121, 122, 122, 122, 123,\n",
       "       124, 124, 124, 125, 126, 126, 126, 126, 126, 126, 127, 128, 128,\n",
       "       129, 129, 129, 129, 130, 130, 130, 131, 131, 132, 132, 132, 132,\n",
       "       132, 132, 132, 132, 133, 133, 134, 134, 134, 135, 136, 137, 138,\n",
       "       138, 139, 139, 140, 140, 140, 141, 142, 142, 142, 142, 143, 143,\n",
       "       143, 144, 144, 144, 144, 144, 144, 145, 146, 146, 146, 147, 148,\n",
       "       148, 148, 149, 149, 150, 150, 150, 151, 152, 152, 153, 153, 154,\n",
       "       154, 155, 155, 156, 156, 157, 158, 159, 159, 159, 159, 159, 159,\n",
       "       159, 159, 159, 159, 159, 160, 160, 161, 161, 161, 161, 162, 163,\n",
       "       163, 163, 163, 163, 164, 165, 166, 166, 166, 167, 168, 168, 168,\n",
       "       169, 169, 169, 169, 169, 170, 170, 171, 172, 172, 173, 174, 174,\n",
       "       174, 175, 176, 177, 177, 177, 178, 179, 179, 180, 180, 180, 181,\n",
       "       182, 183, 183, 183, 184, 185, 185, 185, 185, 186, 186, 186, 187,\n",
       "       188, 189, 189, 190, 190, 191, 191, 192, 193, 193, 194, 194, 194,\n",
       "       194, 195, 195, 196, 197, 197, 197, 197, 197, 197, 197, 198, 198,\n",
       "       198, 198, 199, 199, 199, 199, 199, 200, 201, 201, 201, 201, 201,\n",
       "       201, 201, 202, 202, 202, 202, 203, 204, 205, 205, 206, 206, 207,\n",
       "       208, 208, 208, 209, 210, 210, 211, 211, 212, 212, 213, 214, 214,\n",
       "       214, 214, 214, 214, 215, 216, 216, 217, 217, 218, 219, 219, 220,\n",
       "       220, 221, 221, 222, 222, 222, 223, 223, 223, 224, 224, 224, 224,\n",
       "       224, 225, 226, 226, 226, 226, 227, 227, 227, 227, 228, 229, 229,\n",
       "       229, 229, 230, 230, 231, 232, 232, 233, 233, 234, 235, 235, 235,\n",
       "       235, 236, 236, 236, 236, 237, 237, 238, 238, 239, 240, 241, 241,\n",
       "       241, 241, 241, 242, 242, 243, 244, 245, 245, 246, 246, 246, 246,\n",
       "       246, 246, 247, 247, 247, 248, 249, 250, 250, 251, 252, 253, 253,\n",
       "       253, 253, 254, 254, 254, 255, 256, 257, 258, 258, 259, 259, 259,\n",
       "       259, 259, 259, 260, 261, 261, 262, 262, 262, 262, 262, 262, 262,\n",
       "       263, 263, 264, 264, 265, 266, 267, 267, 267, 268, 268, 269, 270,\n",
       "       270, 271, 271, 271, 272, 272, 273, 274, 275, 275, 275, 276, 277,\n",
       "       277, 277, 277, 277, 277, 278, 279, 279, 279, 279, 279, 279, 280,\n",
       "       280, 281, 281, 281, 282, 283, 283, 283, 284, 284, 284, 284, 284,\n",
       "       285, 285, 285, 285, 286, 287, 287, 287, 287, 288, 288, 288, 289,\n",
       "       290, 290, 291, 292, 293, 294, 295, 296, 297, 297, 298, 298, 298,\n",
       "       298, 298, 298, 298, 299, 299, 300, 301, 301, 301, 301, 302, 303,\n",
       "       303, 304, 304, 305, 305, 305, 305, 305, 305, 306, 307, 308, 309,\n",
       "       309, 309, 310, 311, 311, 311, 311, 311, 311, 311, 311, 312, 313,\n",
       "       313, 313, 313, 314, 314, 315, 316, 317, 317, 317, 317, 317, 317,\n",
       "       317, 317, 318, 319, 319, 319, 319, 319, 319, 320, 321, 322, 322,\n",
       "       323, 323, 323, 323, 323, 323, 323, 324, 325, 325, 325, 326, 326,\n",
       "       326, 326, 326, 326, 327, 328, 328, 328, 328, 329, 329, 329, 329,\n",
       "       330, 331, 331, 331, 332, 332, 332, 332, 333, 333, 333, 334, 334,\n",
       "       334, 335, 335, 336, 337, 338, 338, 339, 339, 339, 339, 339, 339,\n",
       "       340, 340, 341, 341, 342, 342, 343, 344, 344, 345, 346, 347, 348,\n",
       "       348, 348, 349, 349, 349, 349, 350, 350, 350, 351, 352, 352, 352,\n",
       "       353, 354, 355, 356, 357, 357, 357, 357, 358, 359, 359, 360, 360,\n",
       "       361, 361, 361, 361, 361, 361, 361, 361, 362, 362, 362, 363, 363,\n",
       "       363, 364, 365, 366, 366, 366, 367, 367, 367, 367, 367, 367, 368,\n",
       "       368, 368, 369, 369, 370, 370, 371, 372, 372, 372, 372, 372, 372,\n",
       "       372, 373, 373, 373, 373, 373, 373, 373, 373, 374, 375, 375, 375,\n",
       "       375, 375, 376, 376, 376, 377, 377, 377, 378, 378, 379, 380, 381,\n",
       "       381, 382, 382, 383, 384, 385, 386, 387, 388, 389, 389, 389, 389,\n",
       "       390, 391, 392, 392, 393, 394, 395, 396, 397, 397, 397, 397, 397,\n",
       "       397, 398, 399, 399, 400, 400, 400, 400, 401, 401, 401, 401, 401,\n",
       "       401, 401, 401, 402, 402, 403, 403, 403, 403, 403, 403, 403, 404,\n",
       "       404, 405, 405, 405, 406, 406, 406, 407, 407, 408, 408, 409, 409,\n",
       "       410, 411, 411, 412, 413, 414, 415, 415, 415, 415, 415, 415],\n",
       "      dtype=int32)"
      ]
     },
     "execution_count": 24,
     "metadata": {},
     "output_type": "execute_result"
    }
   ],
   "source": []
  },
  {
   "cell_type": "code",
   "execution_count": 29,
   "metadata": {},
   "outputs": [
    {
     "data": {
      "image/png": "[encoded data removed]",
      "text/plain": [
       "<Figure size 432x288 with 1 Axes>"
      ]
     },
     "metadata": {
      "needs_background": "light"
     },
     "output_type": "display_data"
    }
   ],
   "source": [
    "plt.plot(np.cumsum(np.random.randint(low = 1,high = 7, size=1000) > 3)/np.arange(1,1001))\n",
    "plt.ylabel('some numbers')\n",
    "plt.show()"
   ]
  },
  {
   "cell_type": "code",
   "execution_count": 30,
   "metadata": {
    "id": "Y0Yh_kyXXl0l",
    "outputId": "327ad9b8-8b6f-4534-fe68-198b90c5a2f4"
   },
   "outputs": [],
   "source": [
    "#type your code here:\n"
   ]
  },
  {
   "cell_type": "markdown",
   "metadata": {
    "id": "7DH287tqXl0l"
   },
   "source": [
    "3. **Experiment:** Rolling two fair dice, **Event:** Sum of two dice equal 5."
   ]
  },
  {
   "cell_type": "code",
   "execution_count": 37,
   "metadata": {
    "scrolled": true
   },
   "outputs": [
    {
     "data": {
      "text/plain": [
       "[<matplotlib.lines.Line2D at 0x1b629c66c40>]"
      ]
     },
     "execution_count": 37,
     "metadata": {},
     "output_type": "execute_result"
    },
    {
     "data": {
      "image/png": "[encoded data removed]",
      "text/plain": [
       "<Figure size 432x288 with 1 Axes>"
      ]
     },
     "metadata": {
      "needs_background": "light"
     },
     "output_type": "display_data"
    }
   ],
   "source": [
    "\n",
    "plt.plot(np.cumsum((np.random.randint(low = 2,high = 13, size=1000)) > 5 )/np.arange(1,1001))"
   ]
  },
  {
   "cell_type": "code",
   "execution_count": 38,
   "metadata": {
    "id": "1oOW9-sBXl0l",
    "outputId": "a54103dd-22df-46b2-b3e5-eb617c76e69b"
   },
   "outputs": [],
   "source": [
    "#type your code here:\n"
   ]
  },
  {
   "cell_type": "markdown",
   "metadata": {
    "id": "LyYLCCPmXl0m"
   },
   "source": [
    "# Problem 2\n",
    "\n",
    "Simulate the experiment of tossing $1000$ times a coin with probability of **head (coded as $1$) equal to $0.4$** and probability of **tail (coded as $0$) equal to $0.6$**. How can you check if the simulation of the experiment of been running as expected.\n",
    "\n",
    "**Hint**: Use [matplotlib.pyplot.hist¶\n",
    "](https://matplotlib.org/stable/api/_as_gen/matplotlib.pyplot.hist.html)"
   ]
  },
  {
   "cell_type": "code",
   "execution_count": 46,
   "metadata": {
    "scrolled": true
   },
   "outputs": [
    {
     "data": {
      "text/plain": [
       "0.812"
      ]
     },
     "execution_count": 46,
     "metadata": {},
     "output_type": "execute_result"
    }
   ],
   "source": [
    "np.mean(np.random.binomial(2, p = 0.4, size=1000))"
   ]
  },
  {
   "cell_type": "code",
   "execution_count": null,
   "metadata": {
    "id": "FFH94OraXl0m",
    "outputId": "391461ad-d99f-4426-9012-c24c5419ff09"
   },
   "outputs": [
    {
     "data": {
      "text/plain": [
       "(array([612.,   0.,   0.,   0.,   0.,   0.,   0.,   0.,   0., 388.]),\n",
       " array([0. , 0.1, 0.2, 0.3, 0.4, 0.5, 0.6, 0.7, 0.8, 0.9, 1. ]),\n",
       " <BarContainer object of 10 artists>)"
      ]
     },
     "execution_count": 5,
     "metadata": {
      "tags": []
     },
     "output_type": "execute_result"
    },
    {
     "data": {
      "image/png": "[encoded data removed]",
      "text/plain": [
       "<Figure size 432x288 with 1 Axes>"
      ]
     },
     "metadata": {
      "needs_background": "light",
      "tags": []
     },
     "output_type": "display_data"
    }
   ],
   "source": [
    "#type your code here:\n"
   ]
  }
 ],
 "metadata": {
  "colab": {
   "name": "PDS_ITI_PRO_Student_Lab_1.ipynb",
   "provenance": []
  },
  "kernelspec": {
   "display_name": "Python 3",
   "language": "python",
   "name": "python3"
  },
  "language_info": {
   "codemirror_mode": {
    "name": "ipython",
    "version": 3
   },
   "file_extension": ".py",
   "mimetype": "text/x-python",
   "name": "python",
   "nbconvert_exporter": "python",
   "pygments_lexer": "ipython3",
   "version": "3.8.3"
  }
 },
 "nbformat": 4,
 "nbformat_minor": 1
}
